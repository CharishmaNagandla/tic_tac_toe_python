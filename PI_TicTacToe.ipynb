{
 "cells": [
  {
   "cell_type": "code",
   "execution_count": 1,
   "id": "ceea29f2",
   "metadata": {
    "tags": []
   },
   "outputs": [],
   "source": [
    "#Tic Tac Toe"
   ]
  },
  {
   "cell_type": "code",
   "execution_count": 2,
   "id": "616649d7",
   "metadata": {
    "tags": []
   },
   "outputs": [],
   "source": [
    "# Display the updated tic-tac-toe board for each user input\n",
    "\n",
    "from IPython.display import clear_output\n",
    "def board_display(dis_list):\n",
    "    clear_output()\n",
    "    print(f'     |     |     ')\n",
    "    print(f'  {dis_list[0]}  |  {dis_list[1]}  |  {dis_list[2]}  ')\n",
    "    print(f'_____|_____|_____')\n",
    "    print(f'     |     |     ')\n",
    "    print(f'  {dis_list[3]}  |  {dis_list[4]}  |  {dis_list[5]}  ')\n",
    "    print(f'_____|_____|_____')\n",
    "    print(f'     |     |     ')\n",
    "    print(f'  {dis_list[6]}  |  {dis_list[7]}  |  {dis_list[8]}  ')\n"
   ]
  },
  {
   "cell_type": "code",
   "execution_count": 3,
   "id": "6b7ef508",
   "metadata": {
    "tags": []
   },
   "outputs": [],
   "source": [
    "#  main flow for taking the user input, calling the display board, taking user input for position selections, checking the winner\n",
    "\n",
    "def replay():\n",
    "    val=validate_user_input_game()\n",
    "    if val:\n",
    "        mar_list=user_mark_pickup()                               \n",
    "        dis_list=[\" \",\" \",\" \",\" \",\" \",\" \",\" \",\" \",\" \"]\n",
    "        decide_player=1\n",
    "        count=0\n",
    "        user_play=False\n",
    "        while not user_play:\n",
    "            count+=1\n",
    "            if count%2==0:\n",
    "                decide_player=2\n",
    "                marker=mar_list[1]\n",
    "            else:\n",
    "                decide_player=1\n",
    "                marker=mar_list[0]\n",
    "            pos=user_position_selection(dis_list,decide_player)\n",
    "            dis_list=update_list(dis_list,pos,marker)\n",
    "            board_display(dis_list)\n",
    "            user_play=check_win(dis_list,decide_player,marker)\n",
    "            if not user_play:\n",
    "                user_play=check_list_full(dis_list)            \n",
    "            if user_play:\n",
    "                replay()\n",
    "    else:\n",
    "        pass\n",
    "    "
   ]
  },
  {
   "cell_type": "code",
   "execution_count": 4,
   "id": "3fa7fa83",
   "metadata": {
    "tags": []
   },
   "outputs": [],
   "source": [
    "# validate the user input for the game\n",
    "def validate_user_input_game():\n",
    "    value=True\n",
    "    while value:\n",
    "        input_val=input(\"Would you like to play the game(Y/N)\").upper()\n",
    "        if input_val=='Y':\n",
    "            return True\n",
    "        elif input_val=='N':\n",
    "            return False\n",
    "        else:\n",
    "            print(\"I am not able to understand, Please give input as Y if you like to play the game\")\n",
    "            print(\"or N if you like to quit the game\")"
   ]
  },
  {
   "cell_type": "code",
   "execution_count": 5,
   "id": "bc40ebdf",
   "metadata": {
    "tags": []
   },
   "outputs": [],
   "source": [
    "# function for checking the user position selection\n",
    "def user_position_selection(dis_list,decide_player):\n",
    "    position=input(f'Player{decide_player} Provide the position you want to place your marker')\n",
    "    pos_val=True\n",
    "    while pos_val:\n",
    "        if position.isdigit():\n",
    "            position=int(position)\n",
    "            if position in range(1,10):\n",
    "                if(dis_list[position-1]=='X' or dis_list[position-1]=='O'):\n",
    "                    position=input(\"The position is already filled with a value. Please select another value: \")\n",
    "                else:\n",
    "                    pos_val=False\n",
    "                    return position-1\n",
    "            else:\n",
    "                position=input(f'Player{decide_player} Please provide the position number between 1 to 9: ')\n",
    "        else:\n",
    "            position=input(f'Player{decide_player} Please provide the position number (1-9): ')\n",
    "    return"
   ]
  },
  {
   "cell_type": "code",
   "execution_count": 6,
   "id": "8733dd75",
   "metadata": {
    "tags": []
   },
   "outputs": [],
   "source": [
    "# function for checking the user mark for the game\n",
    "def user_mark_pickup():\n",
    "        us_val=True\n",
    "        while us_val:\n",
    "            inp=input(\"Please pick a marker 'X' or 'O': \").upper()\n",
    "            if inp=='X':\n",
    "                us_val=False\n",
    "                return ['X','O']\n",
    "            elif inp=='O':\n",
    "                us_val=False\n",
    "                return ['O','X']\n",
    "            else:\n",
    "                print(\"I am not able to understand, Please give input as 'X' or 'O' \")\n"
   ]
  },
  {
   "cell_type": "code",
   "execution_count": 7,
   "id": "83e375dc",
   "metadata": {
    "tags": []
   },
   "outputs": [],
   "source": [
    "# updating the user-selected position with the marker\n",
    "def update_list(dis_list,pos,marker):\n",
    "    dis_list[pos]=marker\n",
    "    return dis_list"
   ]
  },
  {
   "cell_type": "code",
   "execution_count": 8,
   "id": "aad8b1ec",
   "metadata": {
    "tags": []
   },
   "outputs": [],
   "source": [
    "# checking if the board is full to check if the game is a draw?\n",
    "def check_list_full(dis_list):\n",
    "    if dis_list[0]!=' ' and dis_list[1]!=' ' and dis_list[2]!=' ' and dis_list[3]!=' ' and dis_list[4]!=' ' and dis_list[5]!=' ' and dis_list[6]!=' ' and dis_list[7]!=' ' and dis_list[8]!=' ':\n",
    "        print(\"The game is draw\")\n",
    "        return True\n",
    "    else:\n",
    "        return False\n",
    "            "
   ]
  },
  {
   "cell_type": "code",
   "execution_count": 9,
   "id": "dbeadb0e",
   "metadata": {
    "tags": []
   },
   "outputs": [],
   "source": [
    "# checking the winner\n",
    "def check_win(dis_list,decide_player,marker):\n",
    "    if dis_list[0]==dis_list[1]==dis_list[2]==marker:\n",
    "        #print('for 1-2-3 position')\n",
    "        print(f'Congratulations Player{decide_player} {marker} has won the game')\n",
    "        return True\n",
    "    elif dis_list[3]==dis_list[4]==dis_list[5]==marker:\n",
    "        #print('for 4-5-6 position, player1')\n",
    "        print(f'Congratulations Player{decide_player} {marker} has won the game')\n",
    "        return True\n",
    "    elif dis_list[6]==dis_list[7]==dis_list[8]==marker:\n",
    "        #print('for 7-8-9 position, player1')\n",
    "        print(f'Congratulations Player{decide_player} {marker} has won the game')\n",
    "        return True\n",
    "    elif dis_list[0]==dis_list[3]==dis_list[6]==marker:\n",
    "        #print('for 1-4-7 position, player1')\n",
    "        print(f'Congratulations Player{decide_player} {marker} has won the game')\n",
    "        return True\n",
    "    elif dis_list[1]==dis_list[4]==dis_list[7]==marker:\n",
    "        #print('for 2-5-8 position, player1')\n",
    "        print(f'Congratulations Player{decide_player} {marker} has won the game')\n",
    "        return True\n",
    "    elif dis_list[2]==dis_list[5]==dis_list[8]==marker:\n",
    "        #print('for 3-6-9 position, player1')\n",
    "        print(f'Congratulations Player{decide_player} {marker} has won the game')\n",
    "        return True\n",
    "    elif dis_list[0]==dis_list[4]==dis_list[8]==marker:\n",
    "        #print('for 1-5-9 position, player1')\n",
    "        print(f'Congratulations Player{decide_player} {marker} has won the game')\n",
    "        return True\n",
    "    elif dis_list[6]==dis_list[4]==dis_list[2]==marker:\n",
    "        #print('for 7-5-3 position')\n",
    "        print(f'Congratulations Player{decide_player} {marker} has won the game')\n",
    "        return True\n",
    "    else:\n",
    "        return False\n",
    "    \n",
    "    \n",
    "    "
   ]
  },
  {
   "cell_type": "code",
   "execution_count": 10,
   "id": "a95bef73",
   "metadata": {
    "tags": []
   },
   "outputs": [
    {
     "name": "stdout",
     "output_type": "stream",
     "text": [
      "     |     |     \n",
      "  X  |     |  X  \n",
      "_____|_____|_____\n",
      "     |     |     \n",
      "     |  X  |  O  \n",
      "_____|_____|_____\n",
      "     |     |     \n",
      "  O  |  O  |  X  \n",
      "Congratulations Player1 X has won the game\n"
     ]
    },
    {
     "name": "stdin",
     "output_type": "stream",
     "text": [
      "Would you like to play the game(Y/N) n\n"
     ]
    }
   ],
   "source": [
    "print(\"Hello welcome to the Tic Tac Toe Game\")\n",
    "print(\" \")\n",
    "print(\"Below is the Basic Board for the tic tac toe game and its position values\")\n",
    "print(f'     |     |     ')\n",
    "print(f'  {1}  |  {2}  |  {3}  ')\n",
    "print(f'_____|_____|_____')\n",
    "print(f'     |     |     ')\n",
    "print(f'  {4}  |  {5}  |  {6}  ')\n",
    "print(f'_____|_____|_____')\n",
    "print(f'     |     |     ')\n",
    "print(f'  {7}  |  {8}  |  {9}  ')\n",
    "replay()\n"
   ]
  },
  {
   "cell_type": "code",
   "execution_count": null,
   "id": "71341855-e506-4310-896e-ffed26ed777c",
   "metadata": {},
   "outputs": [],
   "source": []
  },
  {
   "cell_type": "code",
   "execution_count": null,
   "id": "b3cbc5c2-765b-4ff0-8ed0-461389ca6e8f",
   "metadata": {},
   "outputs": [],
   "source": []
  },
  {
   "cell_type": "code",
   "execution_count": null,
   "id": "b4b651a9-775d-47dc-b7aa-dcebd633c378",
   "metadata": {},
   "outputs": [],
   "source": []
  },
  {
   "cell_type": "code",
   "execution_count": 8,
   "id": "09d911aa",
   "metadata": {},
   "outputs": [
    {
     "data": {
      "text/plain": [
       "\"def check_win(dis_list,decide_player,marker):\\n    pass\\n    if dis_list[0]==dis_list[1]==dis_list[2]:\\n        if dis_list[0]==mar_list[0]:\\n            print('for 1-2-3 position, player1')\\n            print(f'Congratulations Player{decide_player} {mar_list[0]} has won the game')\\n            return True\\n        elif dis_list[0]==mar_list[1]:\\n            print('for 1-2-3 position, player2')\\n            print(f'Congratulations Player{decide_player} {mar_list[1]} has won the game')\\n            return True\\n        else:\\n            return False\\n    elif dis_list[3]==dis_list[4]==dis_list[5]:\\n        if dis_list[3]==mar_list[0]:\\n            print('for 4-5-6 position, player1')\\n            print(f'Congratulations Player{decide_player} {mar_list[0]} has won the game')\\n            return True\\n        elif dis_list[3]==mar_list[1]:\\n            print('for 4-5-6 position, player2')\\n            print(f'Congratulations Player{decide_player} {mar_list[1]} has won the game')\\n            return True\\n        else:\\n            return False\\n    elif dis_list[6]==dis_list[7]==dis_list[8]:\\n        if dis_list[6]==mar_list[0]:\\n            print('for 7-8-9 position, player1')\\n            print(f'Congratulations Player{decide_player} {mar_list[0]} has won the game')\\n            return True\\n        elif dis_list[6]==mar_list[1]:\\n            print('for 7-8-9 position, player2')\\n            print(f'Congratulations Player{decide_player} {mar_list[1]} has won the game')\\n            return True\\n        else:\\n            return False\\n    elif dis_list[0]==dis_list[3]==dis_list[6]:\\n        if dis_list[0]==mar_list[0]:\\n            print('for 1-4-7 position, player1')\\n            print(f'Congratulations Player{decide_player} {mar_list[0]} has won the game')\\n            return True\\n        elif dis_list[0]==mar_list[1]:\\n            print('for 1-4-7 position, player2')\\n            print(f'Congratulations Player{decide_player} {mar_list[1]} has won the game')\\n            return True\\n        else:\\n            return False\\n    elif dis_list[1]==dis_list[4]==dis_list[7]:\\n        if dis_list[1]==mar_list[0]:\\n            print('for 2-5-8 position, player1')\\n            print(f'Congratulations Player{decide_player} {mar_list[0]} has won the game')\\n            return True\\n        elif dis_list[1]==mar_list[1]:\\n            print('for 2-5-8 position, player2')\\n            print(f'Congratulations Player{decide_player} {mar_list[1]} has won the game')\\n            return True\\n        else:\\n            return False\\n    elif dis_list[2]==dis_list[5]==dis_list[8]:\\n        if dis_list[2]==mar_list[0]:\\n            print('for 3-6-9 position, player1')\\n            print(f'Congratulations Player{decide_player} {mar_list[0]} has won the game')\\n            return True\\n        elif dis_list[2]==mar_list[1]:\\n            print('for 3-6-9 position, player2')\\n            print(f'Congratulations Player{decide_player} {mar_list[1]} has won the game')\\n            return True\\n        else:\\n            return False\\n    elif dis_list[0]==dis_list[4]==dis_list[8]:\\n        if dis_list[0]==mar_list[0]:\\n            print('for 1-5-9 position, player1')\\n            print(f'Congratulations Player{decide_player} {mar_list[0]} has won the game')\\n            return True\\n        elif dis_list[0]==mar_list[1]:\\n            print('for 1-5-9 position, player2')\\n            print(f'Congratulations Player{decide_player} {mar_list[1]} has won the game')\\n            return True\\n        else:\\n            return False\\n    elif dis_list[6]==dis_list[4]==dis_list[2]:\\n        if dis_list[6]==mar_list[0]:\\n            print('for 7-5-3 position, player1')\\n            print(f'Congratulations Player{decide_player} {mar_list[0]} has won the game')\\n            return True\\n        elif dis_list[6]==mar_list[1]:\\n            print('for 7-5-3 position, player2')\\n            print(f'Congratulations Player{decide_player} {mar_list[1]} has won the game')\\n            return True\\n        else:\\n            return False\\n    else:\\n        return False\""
      ]
     },
     "execution_count": 8,
     "metadata": {},
     "output_type": "execute_result"
    }
   ],
   "source": [
    "'''def check_win(dis_list,decide_player,marker):\n",
    "    pass\n",
    "    if dis_list[0]==dis_list[1]==dis_list[2]:\n",
    "        if dis_list[0]==mar_list[0]:\n",
    "            print('for 1-2-3 position, player1')\n",
    "            print(f'Congratulations Player{decide_player} {mar_list[0]} has won the game')\n",
    "            return True\n",
    "        elif dis_list[0]==mar_list[1]:\n",
    "            print('for 1-2-3 position, player2')\n",
    "            print(f'Congratulations Player{decide_player} {mar_list[1]} has won the game')\n",
    "            return True\n",
    "        else:\n",
    "            return False\n",
    "    elif dis_list[3]==dis_list[4]==dis_list[5]:\n",
    "        if dis_list[3]==mar_list[0]:\n",
    "            print('for 4-5-6 position, player1')\n",
    "            print(f'Congratulations Player{decide_player} {mar_list[0]} has won the game')\n",
    "            return True\n",
    "        elif dis_list[3]==mar_list[1]:\n",
    "            print('for 4-5-6 position, player2')\n",
    "            print(f'Congratulations Player{decide_player} {mar_list[1]} has won the game')\n",
    "            return True\n",
    "        else:\n",
    "            return False\n",
    "    elif dis_list[6]==dis_list[7]==dis_list[8]:\n",
    "        if dis_list[6]==mar_list[0]:\n",
    "            print('for 7-8-9 position, player1')\n",
    "            print(f'Congratulations Player{decide_player} {mar_list[0]} has won the game')\n",
    "            return True\n",
    "        elif dis_list[6]==mar_list[1]:\n",
    "            print('for 7-8-9 position, player2')\n",
    "            print(f'Congratulations Player{decide_player} {mar_list[1]} has won the game')\n",
    "            return True\n",
    "        else:\n",
    "            return False\n",
    "    elif dis_list[0]==dis_list[3]==dis_list[6]:\n",
    "        if dis_list[0]==mar_list[0]:\n",
    "            print('for 1-4-7 position, player1')\n",
    "            print(f'Congratulations Player{decide_player} {mar_list[0]} has won the game')\n",
    "            return True\n",
    "        elif dis_list[0]==mar_list[1]:\n",
    "            print('for 1-4-7 position, player2')\n",
    "            print(f'Congratulations Player{decide_player} {mar_list[1]} has won the game')\n",
    "            return True\n",
    "        else:\n",
    "            return False\n",
    "    elif dis_list[1]==dis_list[4]==dis_list[7]:\n",
    "        if dis_list[1]==mar_list[0]:\n",
    "            print('for 2-5-8 position, player1')\n",
    "            print(f'Congratulations Player{decide_player} {mar_list[0]} has won the game')\n",
    "            return True\n",
    "        elif dis_list[1]==mar_list[1]:\n",
    "            print('for 2-5-8 position, player2')\n",
    "            print(f'Congratulations Player{decide_player} {mar_list[1]} has won the game')\n",
    "            return True\n",
    "        else:\n",
    "            return False\n",
    "    elif dis_list[2]==dis_list[5]==dis_list[8]:\n",
    "        if dis_list[2]==mar_list[0]:\n",
    "            print('for 3-6-9 position, player1')\n",
    "            print(f'Congratulations Player{decide_player} {mar_list[0]} has won the game')\n",
    "            return True\n",
    "        elif dis_list[2]==mar_list[1]:\n",
    "            print('for 3-6-9 position, player2')\n",
    "            print(f'Congratulations Player{decide_player} {mar_list[1]} has won the game')\n",
    "            return True\n",
    "        else:\n",
    "            return False\n",
    "    elif dis_list[0]==dis_list[4]==dis_list[8]:\n",
    "        if dis_list[0]==mar_list[0]:\n",
    "            print('for 1-5-9 position, player1')\n",
    "            print(f'Congratulations Player{decide_player} {mar_list[0]} has won the game')\n",
    "            return True\n",
    "        elif dis_list[0]==mar_list[1]:\n",
    "            print('for 1-5-9 position, player2')\n",
    "            print(f'Congratulations Player{decide_player} {mar_list[1]} has won the game')\n",
    "            return True\n",
    "        else:\n",
    "            return False\n",
    "    elif dis_list[6]==dis_list[4]==dis_list[2]:\n",
    "        if dis_list[6]==mar_list[0]:\n",
    "            print('for 7-5-3 position, player1')\n",
    "            print(f'Congratulations Player{decide_player} {mar_list[0]} has won the game')\n",
    "            return True\n",
    "        elif dis_list[6]==mar_list[1]:\n",
    "            print('for 7-5-3 position, player2')\n",
    "            print(f'Congratulations Player{decide_player} {mar_list[1]} has won the game')\n",
    "            return True\n",
    "        else:\n",
    "            return False\n",
    "    else:\n",
    "        return False'''"
   ]
  }
 ],
 "metadata": {
  "kernelspec": {
   "display_name": "Python 3 (ipykernel)",
   "language": "python",
   "name": "python3"
  },
  "language_info": {
   "codemirror_mode": {
    "name": "ipython",
    "version": 3
   },
   "file_extension": ".py",
   "mimetype": "text/x-python",
   "name": "python",
   "nbconvert_exporter": "python",
   "pygments_lexer": "ipython3",
   "version": "3.12.7"
  }
 },
 "nbformat": 4,
 "nbformat_minor": 5
}
